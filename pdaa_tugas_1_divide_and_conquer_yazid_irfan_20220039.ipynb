{
  "nbformat": 4,
  "nbformat_minor": 0,
  "metadata": {
    "colab": {
      "provenance": []
    },
    "kernelspec": {
      "name": "python3",
      "display_name": "Python 3"
    },
    "language_info": {
      "name": "python"
    }
  },
  "cells": [
    {
      "cell_type": "markdown",
      "source": [
        "#**Divide and Conquer**\n",
        "\n",
        "Buat laporan hasil praktik, berupa :\n",
        "\n",
        "\n",
        "*   Source Code\n",
        "*   Output\n",
        "*Penjelasan\n",
        "\n",
        "Tugas praktik hanya dishare pada halaman GITHUB anda\n",
        "\n",
        "Latihan :\n",
        "\n",
        "Contoh kode python untuk mengetahui jarak terpendek dari node A ke Node E, jika\n",
        "diketahui : \n",
        "\n",
        "Jarak node A ke B =30 jarak node A ke C = 50 jarak node B ke C =10 jarak\n",
        "node C ke D = 40 jarak node dari B ke D = 10 jarak dari node C ke D = 20 jarak dari node C ke E = 30 jarak dari node D ke E = 50\n"
      ],
      "metadata": {
        "id": "cyZ0CsFzBheF"
      }
    },
    {
      "cell_type": "markdown",
      "source": [
        "#**PEMBAHASAN DAN HASIL**\n",
        "\n",
        "Disertakan dalam Source Code"
      ],
      "metadata": {
        "id": "fGPXq2utCMcm"
      }
    },
    {
      "cell_type": "code",
      "execution_count": null,
      "metadata": {
        "colab": {
          "base_uri": "https://localhost:8080/"
        },
        "id": "CI3dyaG_3BL9",
        "outputId": "e0bc4115-2279-459e-adc5-cb261f61737d"
      },
      "outputs": [
        {
          "output_type": "stream",
          "name": "stdout",
          "text": [
            "70\n"
          ]
        }
      ],
      "source": [
        "graph = {\n",
        "    'A': {'B': 30, 'C': 50},\n",
        "    'B': {'C': 10, 'D': 10},\n",
        "    'C': {'D': 40, 'E': 30},\n",
        "    'D': {'E': 50},\n",
        "    'E': {}\n",
        "}\n",
        "\n",
        "def dijkstra(graph, start, end):\n",
        "    # inisialisasi jarak untuk setiap node\n",
        "    distances = {node: float('inf') for node in graph}\n",
        "    # jarak dari node awal ke node awal adalah 0\n",
        "    distances[start] = 0\n",
        "\n",
        "    # inisialisasi set untuk menyimpan node yang belum diproses\n",
        "    unvisited = set(graph.keys())\n",
        "\n",
        "    # proses pencarian jalur terpendek\n",
        "    while unvisited:\n",
        "        # pilih node dengan jarak terpendek yang belum diproses\n",
        "        current = min(unvisited, key=lambda node: distances[node])\n",
        "        # hapus node yang diproses dari set belum diproses\n",
        "        unvisited.remove(current)\n",
        "        # jika jarak ke node saat ini adalah tak terhingga, berarti tidak ada jalur\n",
        "        if distances[current] == float('inf'):\n",
        "            break\n",
        "        # perbarui jarak untuk setiap node yang terhubung dengan node saat ini\n",
        "        for neighbor, weight in graph[current].items():\n",
        "            alternative_route = distances[current] + weight\n",
        "            if alternative_route < distances[neighbor]:\n",
        "                distances[neighbor] = alternative_route\n",
        "\n",
        "    # kembalikan jarak terpendek dari node awal ke node akhir\n",
        "    return distances[end]\n",
        "\n",
        "# contoh penggunaan\n",
        "print(dijkstra(graph, 'A', 'E')) # output: 70\n"
      ]
    },
    {
      "cell_type": "markdown",
      "source": [
        "#**Penjelasan**\n",
        "Dalam kode di atas, kita menggunakan struktur data dictionary untuk merepresentasikan grafik. Setiap node dalam grafik merepresentasikan sebuah key dalam dictionary dan daftar tetangga masing-masing node disimpan sebagai value untuk setiap key. Jarak antara dua node direpresentasikan sebagai nilai untuk pasangan node pada dictionary.\n",
        "\n",
        "Fungsi ‘dijkstra’ mengimplementasikan algoritma Dijkstra untuk mencari jalur terpendek dari node awal ke node akhir. Pertama-tama, jarak untuk setiap node diinisialisasi sebagai tak terhingga. Kemudian, jarak dari node awal ke node awal diatur ke 0. Selama masih ada node yang belum diproses, kita memilih node dengan jarak terpendek yang belum diproses dan mengupdate jarak untuk setiap node yang terhubung dengan node saat ini. Setelah selesai, jarak terpendek dari node awal ke node akhir dikembalikan.\n",
        "\n",
        "Dalam contoh di atas, kita memanggil dijkstra() dengan grafik yang telah diberikan dan node awal adalah A dan node akhir adalah E. Output yang dihasilkan adalah 70, yang merupakan jarak terpendek dari node A ke node E.\n"
      ],
      "metadata": {
        "id": "hfFOwzNZBHYG"
      }
    }
  ]
}