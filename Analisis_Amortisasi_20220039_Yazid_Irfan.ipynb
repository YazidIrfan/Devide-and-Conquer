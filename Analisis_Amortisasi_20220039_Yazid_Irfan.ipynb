{
  "nbformat": 4,
  "nbformat_minor": 0,
  "metadata": {
    "colab": {
      "provenance": [],
      "authorship_tag": "ABX9TyNLN/N9LhttRPlrCseNryi7",
      "include_colab_link": true
    },
    "kernelspec": {
      "name": "python3",
      "display_name": "Python 3"
    },
    "language_info": {
      "name": "python"
    }
  },
  "cells": [
    {
      "cell_type": "markdown",
      "metadata": {
        "id": "view-in-github",
        "colab_type": "text"
      },
      "source": [
        "<a href=\"https://colab.research.google.com/github/YazidIrfan/Praktikum-Desain-Analisis-Dan-Algoritma-PrakDAA-/blob/main/Analisis_Amortisasi_20220039_Yazid_Irfan.ipynb\" target=\"_parent\"><img src=\"https://colab.research.google.com/assets/colab-badge.svg\" alt=\"Open In Colab\"/></a>"
      ]
    },
    {
      "cell_type": "code",
      "execution_count": null,
      "metadata": {
        "colab": {
          "base_uri": "https://localhost:8080/"
        },
        "id": "nTqAuf1SovqD",
        "outputId": "718e4570-3c0b-442e-ec4e-69d8439d13f1"
      },
      "outputs": [
        {
          "output_type": "stream",
          "name": "stdout",
          "text": [
            "Biaya operasional rata-rata per server per bulan: Rp 10833.33\n"
          ]
        }
      ],
      "source": [
        "# jumlah server\n",
        "n = 10\n",
        "# biaya operasional per server per tahun\n",
        "maintenance_cost = 2000000\n",
        "software_update_cost = 1500000\n",
        "system_upgrade_cost = 3000000\n",
        "# waktu operasi server dalam tahun\n",
        "t = 5\n",
        "# biaya amortisasi per server per bulan\n",
        "amortization_cost = ((maintenance_cost + software_update_cost + system_upgrade_cost) / t) / 12\n",
        "# biaya operasional rata-rata per server per bulan\n",
        "average_monthly_cost = amortization_cost / n\n",
        "print(\"Biaya operasional rata-rata per server per bulan: Rp\",\n",
        "round(average_monthly_cost, 2))"
      ]
    },
    {
      "cell_type": "code",
      "source": [
        "# harga mobil\n",
        "car_price = 200000000\n",
        "# uang muka\n",
        "down_payment = 60000000\n",
        "# sisa pembayaran\n",
        "balance = car_price - down_payment\n",
        "# bunga per tahun\n",
        "interest_rate = 0.10\n",
        "# biaya administrasi\n",
        "administrative_fee = 1000000\n",
        "# waktu kredit dalam tahun\n",
        "loan_period = 5\n",
        "# jumlah pembayaran\n",
        "num_payments = loan_period * 12\n",
        "# pembayaran per bulan\n",
        "monthly_payment = (balance * (interest_rate/12)) / (1 - (1 + (interest_rate/12))**(-num_payments))\n",
        "monthly_payment = monthly_payment + (administrative_fee / num_payments)\n",
        "# total biaya bunga\n",
        "total_interest = (monthly_payment * num_payments) - balance\n",
        "print(\"Besarnya pembayaran cicilan bulanan: Rp\", round(monthly_payment, 2))\n",
        "print(\"Total biaya bunga: Rp\", round(total_interest, 2))"
      ],
      "metadata": {
        "colab": {
          "base_uri": "https://localhost:8080/"
        },
        "id": "Q12hxH7Go4p4",
        "outputId": "509ffa24-3b3a-41e4-83b1-9cfae75c45e7"
      },
      "execution_count": null,
      "outputs": [
        {
          "output_type": "stream",
          "name": "stdout",
          "text": [
            "Besarnya pembayaran cicilan bulanan: Rp 2991252.93\n",
            "Total biaya bunga: Rp 39475175.57\n"
          ]
        }
      ]
    }
  ]
}