{
  "nbformat": 4,
  "nbformat_minor": 0,
  "metadata": {
    "colab": {
      "provenance": [],
      "authorship_tag": "ABX9TyP2ZbprsU4olAuWoGYGTyLo",
      "include_colab_link": true
    },
    "kernelspec": {
      "name": "python3",
      "display_name": "Python 3"
    },
    "language_info": {
      "name": "python"
    }
  },
  "cells": [
    {
      "cell_type": "markdown",
      "metadata": {
        "id": "view-in-github",
        "colab_type": "text"
      },
      "source": [
        "<a href=\"https://colab.research.google.com/github/YazidIrfan/Praktikum-Desain-Analisis-Dan-Algoritma-PrakDAA-/blob/main/Algoritma_Aproksimasi_Yazid_Irfan_20220039.ipynb\" target=\"_parent\"><img src=\"https://colab.research.google.com/assets/colab-badge.svg\" alt=\"Open In Colab\"/></a>"
      ]
    },
    {
      "cell_type": "code",
      "execution_count": 3,
      "metadata": {
        "colab": {
          "base_uri": "https://localhost:8080/"
        },
        "id": "AN9znNSrz_M0",
        "outputId": "2b428ec5-f3aa-49e7-90df-2ed006d2b80d"
      },
      "outputs": [
        {
          "output_type": "stream",
          "name": "stdout",
          "text": [
            "Urutan tugas yang direkomendasikan: ['C']\n"
          ]
        }
      ],
      "source": [
        "import numpy as np\n",
        "# Fungsi untuk menentukan urutan tugas menggunakan algoritma aproksimasi\n",
        "def scheduling_approx(tasks, deadlines, processing_times):\n",
        "    n = len(tasks)\n",
        "    order = []\n",
        "    time_left = deadlines - processing_times\n",
        "\n",
        " # Loop sampai semua tugas selesai dikerjakan\n",
        "    while len(order) < n:\n",
        " # Hitung ratio antara waktu yang tersisa dan waktu yang dibutuhkan untuk menyelesaikan tugas\n",
        "        ratios = time_left / processing_times\n",
        " # Pilih tugas dengan rasio tertinggi\n",
        "        i = np.argmax(ratios)\n",
        " # Tambahkan tugas ke urutan dan update waktu yang tersisa\n",
        "        order.append(tasks[i])\n",
        "        time_left -= processing_times[i]\n",
        " # Hapus tugas dari daftar yang tersedia\n",
        "        tasks = np.delete(tasks, i)\n",
        "        deadlines = np.delete(deadlines, i)\n",
        "        processing_times = np.delete(processing_times, i)\n",
        "        return order\n",
        "# Contoh penggunaan fungsi scheduling_approx\n",
        "tasks = np.array(['A', 'B', 'C', 'D', 'E'])\n",
        "deadlines = np.array([7, 6, 8, 10, 11])\n",
        "processing_times = np.array([3, 4, 2, 5, 6])\n",
        "\n",
        "order = scheduling_approx(tasks, deadlines, processing_times)\n",
        "print(\"Urutan tugas yang direkomendasikan:\", order)"
      ]
    },
    {
      "cell_type": "code",
      "source": [
        "from scipy.optimize import linprog\n",
        "# Membentuk sistem persamaan linier dengan numpy\n",
        "A = np.array([[1, 1], [-1, 2], [2, 1]])\n",
        "b = np.array([6, 2, 5])\n",
        "c = np.array([1, -2])\n",
        "# Menyelesaikan sistem persamaan linier menggunakan algoritma simplex\n",
        "res = linprog(c, A_ub=A, b_ub=b, method='simplex')\n",
        "print('Nilai minimum fungsi tujuan: ', res.fun)\n",
        "print('Nilai variabel x: ', res.x)"
      ],
      "metadata": {
        "colab": {
          "base_uri": "https://localhost:8080/"
        },
        "id": "4O1O5aUZfC7I",
        "outputId": "74998eb0-8654-492a-b398-cb76ab7d8a3c"
      },
      "execution_count": 4,
      "outputs": [
        {
          "output_type": "stream",
          "name": "stdout",
          "text": [
            "Nilai minimum fungsi tujuan:  -2.0\n",
            "Nilai variabel x:  [1.6 1.8]\n"
          ]
        },
        {
          "output_type": "stream",
          "name": "stderr",
          "text": [
            "<ipython-input-4-a0edca5a350f>:7: DeprecationWarning: `method='simplex'` is deprecated and will be removed in SciPy 1.11.0. Please use one of the HiGHS solvers (e.g. `method='highs'`) in new code.\n",
            "  res = linprog(c, A_ub=A, b_ub=b, method='simplex')\n"
          ]
        }
      ]
    },
    {
      "cell_type": "code",
      "source": [
        "from scipy.optimize import linprog\n",
        "# Membentuk sistem persamaan linier dengan numpy\n",
        "A = [[-3, -2, -4, 0], [-1, -4, 0, -3], [-2, -3, -5, -4]]\n",
        "b = [-15, -10, -20]\n",
        "c = [10, 8, 15, 0]\n",
        "# Menyelesaikan sistem persamaan linier menggunakan algoritma simplex\n",
        "res = linprog(c, A_ub=A, b_ub=b, method='simplex')\n",
        "print('Nilai maximum fungsi tujuan: ', res.fun)\n",
        "print('Nilai variabel x: ', res.x)"
      ],
      "metadata": {
        "colab": {
          "base_uri": "https://localhost:8080/"
        },
        "id": "hEAnESk1fO8-",
        "outputId": "154eaf87-d113-44c4-bee7-156b6cc6b09d"
      },
      "execution_count": 7,
      "outputs": [
        {
          "output_type": "stream",
          "name": "stdout",
          "text": [
            "Nilai maximum fungsi tujuan:  50.0\n",
            "Nilai variabel x:  [5.  0.  0.  2.5]\n"
          ]
        },
        {
          "output_type": "stream",
          "name": "stderr",
          "text": [
            "<ipython-input-7-52b484e9ff4b>:7: DeprecationWarning: `method='simplex'` is deprecated and will be removed in SciPy 1.11.0. Please use one of the HiGHS solvers (e.g. `method='highs'`) in new code.\n",
            "  res = linprog(c, A_ub=A, b_ub=b, method='simplex')\n"
          ]
        }
      ]
    },
    {
      "cell_type": "code",
      "source": [],
      "metadata": {
        "id": "DI3t8U_Fgpqu"
      },
      "execution_count": null,
      "outputs": []
    }
  ]
}